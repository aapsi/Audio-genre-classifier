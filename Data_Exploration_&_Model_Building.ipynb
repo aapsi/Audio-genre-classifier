{
 "cells": [
  {
   "cell_type": "code",
   "execution_count": 1,
   "metadata": {
    "colab": {
     "base_uri": "https://localhost:8080/",
     "height": 72
    },
    "colab_type": "code",
    "id": "D3vgctK351za",
    "outputId": "2420ca44-f4a5-47fb-de00-3b19ad253ebe"
   },
   "outputs": [],
   "source": [
    "from sklearn.decomposition import PCA\n",
    "from sklearn.preprocessing import StandardScaler\n",
    "from sklearn.tree import DecisionTreeClassifier\n",
    "from sklearn.model_selection import train_test_split, KFold, cross_val_score\n",
    "from sklearn.metrics import accuracy_score, classification_report, confusion_matrix\n",
    "from sklearn.linear_model import LogisticRegression\n",
    "import numpy as np\n",
    "import pandas as pd\n",
    "import seaborn as sns\n",
    "import matplotlib.pyplot as plt\n",
    "import pickle"
   ]
  },
  {
   "cell_type": "code",
   "execution_count": 2,
   "metadata": {
    "colab": {},
    "colab_type": "code",
    "id": "dhuVMQFn51zs"
   },
   "outputs": [],
   "source": [
    "df = pd.read_csv('cleaned.csv',  index_col=None)"
   ]
  },
  {
   "cell_type": "code",
   "execution_count": 3,
   "metadata": {
    "colab": {
     "base_uri": "https://localhost:8080/",
     "height": 195
    },
    "colab_type": "code",
    "id": "i6sRSidP51z4",
    "outputId": "8f094507-6c30-4e6e-dbfa-56d69f62ad77"
   },
   "outputs": [
    {
     "data": {
      "text/html": [
       "<div>\n",
       "<style scoped>\n",
       "    .dataframe tbody tr th:only-of-type {\n",
       "        vertical-align: middle;\n",
       "    }\n",
       "\n",
       "    .dataframe tbody tr th {\n",
       "        vertical-align: top;\n",
       "    }\n",
       "\n",
       "    .dataframe thead th {\n",
       "        text-align: right;\n",
       "    }\n",
       "</style>\n",
       "<table border=\"1\" class=\"dataframe\">\n",
       "  <thead>\n",
       "    <tr style=\"text-align: right;\">\n",
       "      <th></th>\n",
       "      <th>track_id</th>\n",
       "      <th>genre_top</th>\n",
       "      <th>acousticness</th>\n",
       "      <th>danceability</th>\n",
       "      <th>energy</th>\n",
       "      <th>instrumentalness</th>\n",
       "      <th>liveness</th>\n",
       "      <th>speechiness</th>\n",
       "      <th>tempo</th>\n",
       "      <th>valence</th>\n",
       "    </tr>\n",
       "  </thead>\n",
       "  <tbody>\n",
       "    <tr>\n",
       "      <th>0</th>\n",
       "      <td>153</td>\n",
       "      <td>Rock</td>\n",
       "      <td>0.988306</td>\n",
       "      <td>0.255661</td>\n",
       "      <td>0.979774</td>\n",
       "      <td>0.973006</td>\n",
       "      <td>0.121342</td>\n",
       "      <td>0.051740</td>\n",
       "      <td>90.241</td>\n",
       "      <td>0.034018</td>\n",
       "    </tr>\n",
       "    <tr>\n",
       "      <th>1</th>\n",
       "      <td>154</td>\n",
       "      <td>Rock</td>\n",
       "      <td>0.970135</td>\n",
       "      <td>0.352946</td>\n",
       "      <td>0.023852</td>\n",
       "      <td>0.957113</td>\n",
       "      <td>0.113261</td>\n",
       "      <td>0.032177</td>\n",
       "      <td>53.758</td>\n",
       "      <td>0.035632</td>\n",
       "    </tr>\n",
       "    <tr>\n",
       "      <th>2</th>\n",
       "      <td>155</td>\n",
       "      <td>Rock</td>\n",
       "      <td>0.981657</td>\n",
       "      <td>0.142249</td>\n",
       "      <td>0.912122</td>\n",
       "      <td>0.967294</td>\n",
       "      <td>0.363510</td>\n",
       "      <td>0.087527</td>\n",
       "      <td>91.912</td>\n",
       "      <td>0.034325</td>\n",
       "    </tr>\n",
       "    <tr>\n",
       "      <th>3</th>\n",
       "      <td>169</td>\n",
       "      <td>Rock</td>\n",
       "      <td>0.989141</td>\n",
       "      <td>0.225978</td>\n",
       "      <td>0.722835</td>\n",
       "      <td>0.263076</td>\n",
       "      <td>0.092371</td>\n",
       "      <td>0.053406</td>\n",
       "      <td>94.322</td>\n",
       "      <td>0.028347</td>\n",
       "    </tr>\n",
       "    <tr>\n",
       "      <th>4</th>\n",
       "      <td>170</td>\n",
       "      <td>Rock</td>\n",
       "      <td>0.886660</td>\n",
       "      <td>0.298518</td>\n",
       "      <td>0.744333</td>\n",
       "      <td>0.920950</td>\n",
       "      <td>0.139587</td>\n",
       "      <td>0.088781</td>\n",
       "      <td>97.880</td>\n",
       "      <td>0.073548</td>\n",
       "    </tr>\n",
       "  </tbody>\n",
       "</table>\n",
       "</div>"
      ],
      "text/plain": [
       "   track_id genre_top  acousticness  ...  speechiness   tempo   valence\n",
       "0       153      Rock      0.988306  ...     0.051740  90.241  0.034018\n",
       "1       154      Rock      0.970135  ...     0.032177  53.758  0.035632\n",
       "2       155      Rock      0.981657  ...     0.087527  91.912  0.034325\n",
       "3       169      Rock      0.989141  ...     0.053406  94.322  0.028347\n",
       "4       170      Rock      0.886660  ...     0.088781  97.880  0.073548\n",
       "\n",
       "[5 rows x 10 columns]"
      ]
     },
     "execution_count": 3,
     "metadata": {
      "tags": []
     },
     "output_type": "execute_result"
    }
   ],
   "source": [
    "df.head()"
   ]
  },
  {
   "cell_type": "markdown",
   "metadata": {
    "colab_type": "text",
    "id": "jdMwj9EG510A"
   },
   "source": [
    "# Pairwise relationships between continuous variables"
   ]
  },
  {
   "cell_type": "code",
   "execution_count": 4,
   "metadata": {
    "colab": {
     "base_uri": "https://localhost:8080/",
     "height": 218
    },
    "colab_type": "code",
    "id": "s_Rfzi_Z510C",
    "outputId": "b993df73-7669-4a97-d6f6-7da4e5d04981"
   },
   "outputs": [
    {
     "data": {
      "text/html": [
       "<style  type=\"text/css\" >\n",
       "    #T_050f5094_ee7c_11ea_9eb7_0242ac1c0002row0_col0 {\n",
       "            background-color:  #000000;\n",
       "            color:  #f1f1f1;\n",
       "        }    #T_050f5094_ee7c_11ea_9eb7_0242ac1c0002row0_col1 {\n",
       "            background-color:  #ffffff;\n",
       "            color:  #000000;\n",
       "        }    #T_050f5094_ee7c_11ea_9eb7_0242ac1c0002row0_col2 {\n",
       "            background-color:  #c1c1c1;\n",
       "            color:  #000000;\n",
       "        }    #T_050f5094_ee7c_11ea_9eb7_0242ac1c0002row0_col3 {\n",
       "            background-color:  #ababab;\n",
       "            color:  #000000;\n",
       "        }    #T_050f5094_ee7c_11ea_9eb7_0242ac1c0002row0_col4 {\n",
       "            background-color:  #eeeeee;\n",
       "            color:  #000000;\n",
       "        }    #T_050f5094_ee7c_11ea_9eb7_0242ac1c0002row0_col5 {\n",
       "            background-color:  #dcdcdc;\n",
       "            color:  #000000;\n",
       "        }    #T_050f5094_ee7c_11ea_9eb7_0242ac1c0002row0_col6 {\n",
       "            background-color:  #c0c0c0;\n",
       "            color:  #000000;\n",
       "        }    #T_050f5094_ee7c_11ea_9eb7_0242ac1c0002row0_col7 {\n",
       "            background-color:  #d3d3d3;\n",
       "            color:  #000000;\n",
       "        }    #T_050f5094_ee7c_11ea_9eb7_0242ac1c0002row0_col8 {\n",
       "            background-color:  #cfcfcf;\n",
       "            color:  #000000;\n",
       "        }    #T_050f5094_ee7c_11ea_9eb7_0242ac1c0002row1_col0 {\n",
       "            background-color:  #ffffff;\n",
       "            color:  #000000;\n",
       "        }    #T_050f5094_ee7c_11ea_9eb7_0242ac1c0002row1_col1 {\n",
       "            background-color:  #000000;\n",
       "            color:  #f1f1f1;\n",
       "        }    #T_050f5094_ee7c_11ea_9eb7_0242ac1c0002row1_col2 {\n",
       "            background-color:  #d1d1d1;\n",
       "            color:  #000000;\n",
       "        }    #T_050f5094_ee7c_11ea_9eb7_0242ac1c0002row1_col3 {\n",
       "            background-color:  #ffffff;\n",
       "            color:  #000000;\n",
       "        }    #T_050f5094_ee7c_11ea_9eb7_0242ac1c0002row1_col4 {\n",
       "            background-color:  #969696;\n",
       "            color:  #000000;\n",
       "        }    #T_050f5094_ee7c_11ea_9eb7_0242ac1c0002row1_col5 {\n",
       "            background-color:  #ebebeb;\n",
       "            color:  #000000;\n",
       "        }    #T_050f5094_ee7c_11ea_9eb7_0242ac1c0002row1_col6 {\n",
       "            background-color:  #adadad;\n",
       "            color:  #000000;\n",
       "        }    #T_050f5094_ee7c_11ea_9eb7_0242ac1c0002row1_col7 {\n",
       "            background-color:  #d3d3d3;\n",
       "            color:  #000000;\n",
       "        }    #T_050f5094_ee7c_11ea_9eb7_0242ac1c0002row1_col8 {\n",
       "            background-color:  #d4d4d4;\n",
       "            color:  #000000;\n",
       "        }    #T_050f5094_ee7c_11ea_9eb7_0242ac1c0002row2_col0 {\n",
       "            background-color:  #b1b1b1;\n",
       "            color:  #000000;\n",
       "        }    #T_050f5094_ee7c_11ea_9eb7_0242ac1c0002row2_col1 {\n",
       "            background-color:  #bfbfbf;\n",
       "            color:  #000000;\n",
       "        }    #T_050f5094_ee7c_11ea_9eb7_0242ac1c0002row2_col2 {\n",
       "            background-color:  #000000;\n",
       "            color:  #f1f1f1;\n",
       "        }    #T_050f5094_ee7c_11ea_9eb7_0242ac1c0002row2_col3 {\n",
       "            background-color:  #f8f8f8;\n",
       "            color:  #000000;\n",
       "        }    #T_050f5094_ee7c_11ea_9eb7_0242ac1c0002row2_col4 {\n",
       "            background-color:  #ebebeb;\n",
       "            color:  #000000;\n",
       "        }    #T_050f5094_ee7c_11ea_9eb7_0242ac1c0002row2_col5 {\n",
       "            background-color:  #ffffff;\n",
       "            color:  #000000;\n",
       "        }    #T_050f5094_ee7c_11ea_9eb7_0242ac1c0002row2_col6 {\n",
       "            background-color:  #878787;\n",
       "            color:  #000000;\n",
       "        }    #T_050f5094_ee7c_11ea_9eb7_0242ac1c0002row2_col7 {\n",
       "            background-color:  #ffffff;\n",
       "            color:  #000000;\n",
       "        }    #T_050f5094_ee7c_11ea_9eb7_0242ac1c0002row2_col8 {\n",
       "            background-color:  #6e6e6e;\n",
       "            color:  #000000;\n",
       "        }    #T_050f5094_ee7c_11ea_9eb7_0242ac1c0002row3_col0 {\n",
       "            background-color:  #a0a0a0;\n",
       "            color:  #000000;\n",
       "        }    #T_050f5094_ee7c_11ea_9eb7_0242ac1c0002row3_col1 {\n",
       "            background-color:  #efefef;\n",
       "            color:  #000000;\n",
       "        }    #T_050f5094_ee7c_11ea_9eb7_0242ac1c0002row3_col2 {\n",
       "            background-color:  #fdfdfd;\n",
       "            color:  #000000;\n",
       "        }    #T_050f5094_ee7c_11ea_9eb7_0242ac1c0002row3_col3 {\n",
       "            background-color:  #000000;\n",
       "            color:  #f1f1f1;\n",
       "        }    #T_050f5094_ee7c_11ea_9eb7_0242ac1c0002row3_col4 {\n",
       "            background-color:  #b6b6b6;\n",
       "            color:  #000000;\n",
       "        }    #T_050f5094_ee7c_11ea_9eb7_0242ac1c0002row3_col5 {\n",
       "            background-color:  #cdcdcd;\n",
       "            color:  #000000;\n",
       "        }    #T_050f5094_ee7c_11ea_9eb7_0242ac1c0002row3_col6 {\n",
       "            background-color:  #cfcfcf;\n",
       "            color:  #000000;\n",
       "        }    #T_050f5094_ee7c_11ea_9eb7_0242ac1c0002row3_col7 {\n",
       "            background-color:  #a5a5a5;\n",
       "            color:  #000000;\n",
       "        }    #T_050f5094_ee7c_11ea_9eb7_0242ac1c0002row3_col8 {\n",
       "            background-color:  #c9c9c9;\n",
       "            color:  #000000;\n",
       "        }    #T_050f5094_ee7c_11ea_9eb7_0242ac1c0002row4_col0 {\n",
       "            background-color:  #ededed;\n",
       "            color:  #000000;\n",
       "        }    #T_050f5094_ee7c_11ea_9eb7_0242ac1c0002row4_col1 {\n",
       "            background-color:  #969696;\n",
       "            color:  #000000;\n",
       "        }    #T_050f5094_ee7c_11ea_9eb7_0242ac1c0002row4_col2 {\n",
       "            background-color:  #ffffff;\n",
       "            color:  #000000;\n",
       "        }    #T_050f5094_ee7c_11ea_9eb7_0242ac1c0002row4_col3 {\n",
       "            background-color:  #c2c2c2;\n",
       "            color:  #000000;\n",
       "        }    #T_050f5094_ee7c_11ea_9eb7_0242ac1c0002row4_col4 {\n",
       "            background-color:  #000000;\n",
       "            color:  #f1f1f1;\n",
       "        }    #T_050f5094_ee7c_11ea_9eb7_0242ac1c0002row4_col5 {\n",
       "            background-color:  #fcfcfc;\n",
       "            color:  #000000;\n",
       "        }    #T_050f5094_ee7c_11ea_9eb7_0242ac1c0002row4_col6 {\n",
       "            background-color:  #ffffff;\n",
       "            color:  #000000;\n",
       "        }    #T_050f5094_ee7c_11ea_9eb7_0242ac1c0002row4_col7 {\n",
       "            background-color:  #c9c9c9;\n",
       "            color:  #000000;\n",
       "        }    #T_050f5094_ee7c_11ea_9eb7_0242ac1c0002row4_col8 {\n",
       "            background-color:  #ffffff;\n",
       "            color:  #000000;\n",
       "        }    #T_050f5094_ee7c_11ea_9eb7_0242ac1c0002row5_col0 {\n",
       "            background-color:  #b1b1b1;\n",
       "            color:  #000000;\n",
       "        }    #T_050f5094_ee7c_11ea_9eb7_0242ac1c0002row5_col1 {\n",
       "            background-color:  #bebebe;\n",
       "            color:  #000000;\n",
       "        }    #T_050f5094_ee7c_11ea_9eb7_0242ac1c0002row5_col2 {\n",
       "            background-color:  #e1e1e1;\n",
       "            color:  #000000;\n",
       "        }    #T_050f5094_ee7c_11ea_9eb7_0242ac1c0002row5_col3 {\n",
       "            background-color:  #b1b1b1;\n",
       "            color:  #000000;\n",
       "        }    #T_050f5094_ee7c_11ea_9eb7_0242ac1c0002row5_col4 {\n",
       "            background-color:  #cccccc;\n",
       "            color:  #000000;\n",
       "        }    #T_050f5094_ee7c_11ea_9eb7_0242ac1c0002row5_col5 {\n",
       "            background-color:  #000000;\n",
       "            color:  #f1f1f1;\n",
       "        }    #T_050f5094_ee7c_11ea_9eb7_0242ac1c0002row5_col6 {\n",
       "            background-color:  #b3b3b3;\n",
       "            color:  #000000;\n",
       "        }    #T_050f5094_ee7c_11ea_9eb7_0242ac1c0002row5_col7 {\n",
       "            background-color:  #cdcdcd;\n",
       "            color:  #000000;\n",
       "        }    #T_050f5094_ee7c_11ea_9eb7_0242ac1c0002row5_col8 {\n",
       "            background-color:  #dbdbdb;\n",
       "            color:  #000000;\n",
       "        }    #T_050f5094_ee7c_11ea_9eb7_0242ac1c0002row6_col0 {\n",
       "            background-color:  #bfbfbf;\n",
       "            color:  #000000;\n",
       "        }    #T_050f5094_ee7c_11ea_9eb7_0242ac1c0002row6_col1 {\n",
       "            background-color:  #adadad;\n",
       "            color:  #000000;\n",
       "        }    #T_050f5094_ee7c_11ea_9eb7_0242ac1c0002row6_col2 {\n",
       "            background-color:  #939393;\n",
       "            color:  #000000;\n",
       "        }    #T_050f5094_ee7c_11ea_9eb7_0242ac1c0002row6_col3 {\n",
       "            background-color:  #dddddd;\n",
       "            color:  #000000;\n",
       "        }    #T_050f5094_ee7c_11ea_9eb7_0242ac1c0002row6_col4 {\n",
       "            background-color:  #ffffff;\n",
       "            color:  #000000;\n",
       "        }    #T_050f5094_ee7c_11ea_9eb7_0242ac1c0002row6_col5 {\n",
       "            background-color:  #dddddd;\n",
       "            color:  #000000;\n",
       "        }    #T_050f5094_ee7c_11ea_9eb7_0242ac1c0002row6_col6 {\n",
       "            background-color:  #000000;\n",
       "            color:  #f1f1f1;\n",
       "        }    #T_050f5094_ee7c_11ea_9eb7_0242ac1c0002row6_col7 {\n",
       "            background-color:  #cccccc;\n",
       "            color:  #000000;\n",
       "        }    #T_050f5094_ee7c_11ea_9eb7_0242ac1c0002row6_col8 {\n",
       "            background-color:  #b2b2b2;\n",
       "            color:  #000000;\n",
       "        }    #T_050f5094_ee7c_11ea_9eb7_0242ac1c0002row7_col0 {\n",
       "            background-color:  #bfbfbf;\n",
       "            color:  #000000;\n",
       "        }    #T_050f5094_ee7c_11ea_9eb7_0242ac1c0002row7_col1 {\n",
       "            background-color:  #bfbfbf;\n",
       "            color:  #000000;\n",
       "        }    #T_050f5094_ee7c_11ea_9eb7_0242ac1c0002row7_col2 {\n",
       "            background-color:  #fdfdfd;\n",
       "            color:  #000000;\n",
       "        }    #T_050f5094_ee7c_11ea_9eb7_0242ac1c0002row7_col3 {\n",
       "            background-color:  #a0a0a0;\n",
       "            color:  #000000;\n",
       "        }    #T_050f5094_ee7c_11ea_9eb7_0242ac1c0002row7_col4 {\n",
       "            background-color:  #b7b7b7;\n",
       "            color:  #000000;\n",
       "        }    #T_050f5094_ee7c_11ea_9eb7_0242ac1c0002row7_col5 {\n",
       "            background-color:  #e6e6e6;\n",
       "            color:  #000000;\n",
       "        }    #T_050f5094_ee7c_11ea_9eb7_0242ac1c0002row7_col6 {\n",
       "            background-color:  #b9b9b9;\n",
       "            color:  #000000;\n",
       "        }    #T_050f5094_ee7c_11ea_9eb7_0242ac1c0002row7_col7 {\n",
       "            background-color:  #000000;\n",
       "            color:  #f1f1f1;\n",
       "        }    #T_050f5094_ee7c_11ea_9eb7_0242ac1c0002row7_col8 {\n",
       "            background-color:  #c6c6c6;\n",
       "            color:  #000000;\n",
       "        }    #T_050f5094_ee7c_11ea_9eb7_0242ac1c0002row8_col0 {\n",
       "            background-color:  #b8b8b8;\n",
       "            color:  #000000;\n",
       "        }    #T_050f5094_ee7c_11ea_9eb7_0242ac1c0002row8_col1 {\n",
       "            background-color:  #bdbdbd;\n",
       "            color:  #000000;\n",
       "        }    #T_050f5094_ee7c_11ea_9eb7_0242ac1c0002row8_col2 {\n",
       "            background-color:  #6b6b6b;\n",
       "            color:  #000000;\n",
       "        }    #T_050f5094_ee7c_11ea_9eb7_0242ac1c0002row8_col3 {\n",
       "            background-color:  #c0c0c0;\n",
       "            color:  #000000;\n",
       "        }    #T_050f5094_ee7c_11ea_9eb7_0242ac1c0002row8_col4 {\n",
       "            background-color:  #e4e4e4;\n",
       "            color:  #000000;\n",
       "        }    #T_050f5094_ee7c_11ea_9eb7_0242ac1c0002row8_col5 {\n",
       "            background-color:  #f1f1f1;\n",
       "            color:  #000000;\n",
       "        }    #T_050f5094_ee7c_11ea_9eb7_0242ac1c0002row8_col6 {\n",
       "            background-color:  #9f9f9f;\n",
       "            color:  #000000;\n",
       "        }    #T_050f5094_ee7c_11ea_9eb7_0242ac1c0002row8_col7 {\n",
       "            background-color:  #c3c3c3;\n",
       "            color:  #000000;\n",
       "        }    #T_050f5094_ee7c_11ea_9eb7_0242ac1c0002row8_col8 {\n",
       "            background-color:  #000000;\n",
       "            color:  #f1f1f1;\n",
       "        }</style><table id=\"T_050f5094_ee7c_11ea_9eb7_0242ac1c0002\" ><thead>    <tr>        <th class=\"blank level0\" ></th>        <th class=\"col_heading level0 col0\" >track_id</th>        <th class=\"col_heading level0 col1\" >acousticness</th>        <th class=\"col_heading level0 col2\" >danceability</th>        <th class=\"col_heading level0 col3\" >energy</th>        <th class=\"col_heading level0 col4\" >instrumentalness</th>        <th class=\"col_heading level0 col5\" >liveness</th>        <th class=\"col_heading level0 col6\" >speechiness</th>        <th class=\"col_heading level0 col7\" >tempo</th>        <th class=\"col_heading level0 col8\" >valence</th>    </tr></thead><tbody>\n",
       "                <tr>\n",
       "                        <th id=\"T_050f5094_ee7c_11ea_9eb7_0242ac1c0002level0_row0\" class=\"row_heading level0 row0\" >track_id</th>\n",
       "                        <td id=\"T_050f5094_ee7c_11ea_9eb7_0242ac1c0002row0_col0\" class=\"data row0 col0\" >1.000000</td>\n",
       "                        <td id=\"T_050f5094_ee7c_11ea_9eb7_0242ac1c0002row0_col1\" class=\"data row0 col1\" >-0.372282</td>\n",
       "                        <td id=\"T_050f5094_ee7c_11ea_9eb7_0242ac1c0002row0_col2\" class=\"data row0 col2\" >0.049454</td>\n",
       "                        <td id=\"T_050f5094_ee7c_11ea_9eb7_0242ac1c0002row0_col3\" class=\"data row0 col3\" >0.140703</td>\n",
       "                        <td id=\"T_050f5094_ee7c_11ea_9eb7_0242ac1c0002row0_col4\" class=\"data row0 col4\" >-0.275623</td>\n",
       "                        <td id=\"T_050f5094_ee7c_11ea_9eb7_0242ac1c0002row0_col5\" class=\"data row0 col5\" >0.048231</td>\n",
       "                        <td id=\"T_050f5094_ee7c_11ea_9eb7_0242ac1c0002row0_col6\" class=\"data row0 col6\" >-0.026995</td>\n",
       "                        <td id=\"T_050f5094_ee7c_11ea_9eb7_0242ac1c0002row0_col7\" class=\"data row0 col7\" >-0.025392</td>\n",
       "                        <td id=\"T_050f5094_ee7c_11ea_9eb7_0242ac1c0002row0_col8\" class=\"data row0 col8\" >0.010070</td>\n",
       "            </tr>\n",
       "            <tr>\n",
       "                        <th id=\"T_050f5094_ee7c_11ea_9eb7_0242ac1c0002level0_row1\" class=\"row_heading level0 row1\" >acousticness</th>\n",
       "                        <td id=\"T_050f5094_ee7c_11ea_9eb7_0242ac1c0002row1_col0\" class=\"data row1 col0\" >-0.372282</td>\n",
       "                        <td id=\"T_050f5094_ee7c_11ea_9eb7_0242ac1c0002row1_col1\" class=\"data row1 col1\" >1.000000</td>\n",
       "                        <td id=\"T_050f5094_ee7c_11ea_9eb7_0242ac1c0002row1_col2\" class=\"data row1 col2\" >-0.028954</td>\n",
       "                        <td id=\"T_050f5094_ee7c_11ea_9eb7_0242ac1c0002row1_col3\" class=\"data row1 col3\" >-0.281619</td>\n",
       "                        <td id=\"T_050f5094_ee7c_11ea_9eb7_0242ac1c0002row1_col4\" class=\"data row1 col4\" >0.194780</td>\n",
       "                        <td id=\"T_050f5094_ee7c_11ea_9eb7_0242ac1c0002row1_col5\" class=\"data row1 col5\" >-0.019991</td>\n",
       "                        <td id=\"T_050f5094_ee7c_11ea_9eb7_0242ac1c0002row1_col6\" class=\"data row1 col6\" >0.072204</td>\n",
       "                        <td id=\"T_050f5094_ee7c_11ea_9eb7_0242ac1c0002row1_col7\" class=\"data row1 col7\" >-0.026310</td>\n",
       "                        <td id=\"T_050f5094_ee7c_11ea_9eb7_0242ac1c0002row1_col8\" class=\"data row1 col8\" >-0.013841</td>\n",
       "            </tr>\n",
       "            <tr>\n",
       "                        <th id=\"T_050f5094_ee7c_11ea_9eb7_0242ac1c0002level0_row2\" class=\"row_heading level0 row2\" >danceability</th>\n",
       "                        <td id=\"T_050f5094_ee7c_11ea_9eb7_0242ac1c0002row2_col0\" class=\"data row2 col0\" >0.049454</td>\n",
       "                        <td id=\"T_050f5094_ee7c_11ea_9eb7_0242ac1c0002row2_col1\" class=\"data row2 col1\" >-0.028954</td>\n",
       "                        <td id=\"T_050f5094_ee7c_11ea_9eb7_0242ac1c0002row2_col2\" class=\"data row2 col2\" >1.000000</td>\n",
       "                        <td id=\"T_050f5094_ee7c_11ea_9eb7_0242ac1c0002row2_col3\" class=\"data row2 col3\" >-0.242032</td>\n",
       "                        <td id=\"T_050f5094_ee7c_11ea_9eb7_0242ac1c0002row2_col4\" class=\"data row2 col4\" >-0.255217</td>\n",
       "                        <td id=\"T_050f5094_ee7c_11ea_9eb7_0242ac1c0002row2_col5\" class=\"data row2 col5\" >-0.106584</td>\n",
       "                        <td id=\"T_050f5094_ee7c_11ea_9eb7_0242ac1c0002row2_col6\" class=\"data row2 col6\" >0.276206</td>\n",
       "                        <td id=\"T_050f5094_ee7c_11ea_9eb7_0242ac1c0002row2_col7\" class=\"data row2 col7\" >-0.242089</td>\n",
       "                        <td id=\"T_050f5094_ee7c_11ea_9eb7_0242ac1c0002row2_col8\" class=\"data row2 col8\" >0.473165</td>\n",
       "            </tr>\n",
       "            <tr>\n",
       "                        <th id=\"T_050f5094_ee7c_11ea_9eb7_0242ac1c0002level0_row3\" class=\"row_heading level0 row3\" >energy</th>\n",
       "                        <td id=\"T_050f5094_ee7c_11ea_9eb7_0242ac1c0002row3_col0\" class=\"data row3 col0\" >0.140703</td>\n",
       "                        <td id=\"T_050f5094_ee7c_11ea_9eb7_0242ac1c0002row3_col1\" class=\"data row3 col1\" >-0.281619</td>\n",
       "                        <td id=\"T_050f5094_ee7c_11ea_9eb7_0242ac1c0002row3_col2\" class=\"data row3 col2\" >-0.242032</td>\n",
       "                        <td id=\"T_050f5094_ee7c_11ea_9eb7_0242ac1c0002row3_col3\" class=\"data row3 col3\" >1.000000</td>\n",
       "                        <td id=\"T_050f5094_ee7c_11ea_9eb7_0242ac1c0002row3_col4\" class=\"data row3 col4\" >0.028238</td>\n",
       "                        <td id=\"T_050f5094_ee7c_11ea_9eb7_0242ac1c0002row3_col5\" class=\"data row3 col5\" >0.113331</td>\n",
       "                        <td id=\"T_050f5094_ee7c_11ea_9eb7_0242ac1c0002row3_col6\" class=\"data row3 col6\" >-0.109983</td>\n",
       "                        <td id=\"T_050f5094_ee7c_11ea_9eb7_0242ac1c0002row3_col7\" class=\"data row3 col7\" >0.195227</td>\n",
       "                        <td id=\"T_050f5094_ee7c_11ea_9eb7_0242ac1c0002row3_col8\" class=\"data row3 col8\" >0.038603</td>\n",
       "            </tr>\n",
       "            <tr>\n",
       "                        <th id=\"T_050f5094_ee7c_11ea_9eb7_0242ac1c0002level0_row4\" class=\"row_heading level0 row4\" >instrumentalness</th>\n",
       "                        <td id=\"T_050f5094_ee7c_11ea_9eb7_0242ac1c0002row4_col0\" class=\"data row4 col0\" >-0.275623</td>\n",
       "                        <td id=\"T_050f5094_ee7c_11ea_9eb7_0242ac1c0002row4_col1\" class=\"data row4 col1\" >0.194780</td>\n",
       "                        <td id=\"T_050f5094_ee7c_11ea_9eb7_0242ac1c0002row4_col2\" class=\"data row4 col2\" >-0.255217</td>\n",
       "                        <td id=\"T_050f5094_ee7c_11ea_9eb7_0242ac1c0002row4_col3\" class=\"data row4 col3\" >0.028238</td>\n",
       "                        <td id=\"T_050f5094_ee7c_11ea_9eb7_0242ac1c0002row4_col4\" class=\"data row4 col4\" >1.000000</td>\n",
       "                        <td id=\"T_050f5094_ee7c_11ea_9eb7_0242ac1c0002row4_col5\" class=\"data row4 col5\" >-0.091022</td>\n",
       "                        <td id=\"T_050f5094_ee7c_11ea_9eb7_0242ac1c0002row4_col6\" class=\"data row4 col6\" >-0.366762</td>\n",
       "                        <td id=\"T_050f5094_ee7c_11ea_9eb7_0242ac1c0002row4_col7\" class=\"data row4 col7\" >0.022215</td>\n",
       "                        <td id=\"T_050f5094_ee7c_11ea_9eb7_0242ac1c0002row4_col8\" class=\"data row4 col8\" >-0.219967</td>\n",
       "            </tr>\n",
       "            <tr>\n",
       "                        <th id=\"T_050f5094_ee7c_11ea_9eb7_0242ac1c0002level0_row5\" class=\"row_heading level0 row5\" >liveness</th>\n",
       "                        <td id=\"T_050f5094_ee7c_11ea_9eb7_0242ac1c0002row5_col0\" class=\"data row5 col0\" >0.048231</td>\n",
       "                        <td id=\"T_050f5094_ee7c_11ea_9eb7_0242ac1c0002row5_col1\" class=\"data row5 col1\" >-0.019991</td>\n",
       "                        <td id=\"T_050f5094_ee7c_11ea_9eb7_0242ac1c0002row5_col2\" class=\"data row5 col2\" >-0.106584</td>\n",
       "                        <td id=\"T_050f5094_ee7c_11ea_9eb7_0242ac1c0002row5_col3\" class=\"data row5 col3\" >0.113331</td>\n",
       "                        <td id=\"T_050f5094_ee7c_11ea_9eb7_0242ac1c0002row5_col4\" class=\"data row5 col4\" >-0.091022</td>\n",
       "                        <td id=\"T_050f5094_ee7c_11ea_9eb7_0242ac1c0002row5_col5\" class=\"data row5 col5\" >1.000000</td>\n",
       "                        <td id=\"T_050f5094_ee7c_11ea_9eb7_0242ac1c0002row5_col6\" class=\"data row5 col6\" >0.041173</td>\n",
       "                        <td id=\"T_050f5094_ee7c_11ea_9eb7_0242ac1c0002row5_col7\" class=\"data row5 col7\" >0.002732</td>\n",
       "                        <td id=\"T_050f5094_ee7c_11ea_9eb7_0242ac1c0002row5_col8\" class=\"data row5 col8\" >-0.045093</td>\n",
       "            </tr>\n",
       "            <tr>\n",
       "                        <th id=\"T_050f5094_ee7c_11ea_9eb7_0242ac1c0002level0_row6\" class=\"row_heading level0 row6\" >speechiness</th>\n",
       "                        <td id=\"T_050f5094_ee7c_11ea_9eb7_0242ac1c0002row6_col0\" class=\"data row6 col0\" >-0.026995</td>\n",
       "                        <td id=\"T_050f5094_ee7c_11ea_9eb7_0242ac1c0002row6_col1\" class=\"data row6 col1\" >0.072204</td>\n",
       "                        <td id=\"T_050f5094_ee7c_11ea_9eb7_0242ac1c0002row6_col2\" class=\"data row6 col2\" >0.276206</td>\n",
       "                        <td id=\"T_050f5094_ee7c_11ea_9eb7_0242ac1c0002row6_col3\" class=\"data row6 col3\" >-0.109983</td>\n",
       "                        <td id=\"T_050f5094_ee7c_11ea_9eb7_0242ac1c0002row6_col4\" class=\"data row6 col4\" >-0.366762</td>\n",
       "                        <td id=\"T_050f5094_ee7c_11ea_9eb7_0242ac1c0002row6_col5\" class=\"data row6 col5\" >0.041173</td>\n",
       "                        <td id=\"T_050f5094_ee7c_11ea_9eb7_0242ac1c0002row6_col6\" class=\"data row6 col6\" >1.000000</td>\n",
       "                        <td id=\"T_050f5094_ee7c_11ea_9eb7_0242ac1c0002row6_col7\" class=\"data row6 col7\" >0.008241</td>\n",
       "                        <td id=\"T_050f5094_ee7c_11ea_9eb7_0242ac1c0002row6_col8\" class=\"data row6 col8\" >0.149894</td>\n",
       "            </tr>\n",
       "            <tr>\n",
       "                        <th id=\"T_050f5094_ee7c_11ea_9eb7_0242ac1c0002level0_row7\" class=\"row_heading level0 row7\" >tempo</th>\n",
       "                        <td id=\"T_050f5094_ee7c_11ea_9eb7_0242ac1c0002row7_col0\" class=\"data row7 col0\" >-0.025392</td>\n",
       "                        <td id=\"T_050f5094_ee7c_11ea_9eb7_0242ac1c0002row7_col1\" class=\"data row7 col1\" >-0.026310</td>\n",
       "                        <td id=\"T_050f5094_ee7c_11ea_9eb7_0242ac1c0002row7_col2\" class=\"data row7 col2\" >-0.242089</td>\n",
       "                        <td id=\"T_050f5094_ee7c_11ea_9eb7_0242ac1c0002row7_col3\" class=\"data row7 col3\" >0.195227</td>\n",
       "                        <td id=\"T_050f5094_ee7c_11ea_9eb7_0242ac1c0002row7_col4\" class=\"data row7 col4\" >0.022215</td>\n",
       "                        <td id=\"T_050f5094_ee7c_11ea_9eb7_0242ac1c0002row7_col5\" class=\"data row7 col5\" >0.002732</td>\n",
       "                        <td id=\"T_050f5094_ee7c_11ea_9eb7_0242ac1c0002row7_col6\" class=\"data row7 col6\" >0.008241</td>\n",
       "                        <td id=\"T_050f5094_ee7c_11ea_9eb7_0242ac1c0002row7_col7\" class=\"data row7 col7\" >1.000000</td>\n",
       "                        <td id=\"T_050f5094_ee7c_11ea_9eb7_0242ac1c0002row7_col8\" class=\"data row7 col8\" >0.052221</td>\n",
       "            </tr>\n",
       "            <tr>\n",
       "                        <th id=\"T_050f5094_ee7c_11ea_9eb7_0242ac1c0002level0_row8\" class=\"row_heading level0 row8\" >valence</th>\n",
       "                        <td id=\"T_050f5094_ee7c_11ea_9eb7_0242ac1c0002row8_col0\" class=\"data row8 col0\" >0.010070</td>\n",
       "                        <td id=\"T_050f5094_ee7c_11ea_9eb7_0242ac1c0002row8_col1\" class=\"data row8 col1\" >-0.013841</td>\n",
       "                        <td id=\"T_050f5094_ee7c_11ea_9eb7_0242ac1c0002row8_col2\" class=\"data row8 col2\" >0.473165</td>\n",
       "                        <td id=\"T_050f5094_ee7c_11ea_9eb7_0242ac1c0002row8_col3\" class=\"data row8 col3\" >0.038603</td>\n",
       "                        <td id=\"T_050f5094_ee7c_11ea_9eb7_0242ac1c0002row8_col4\" class=\"data row8 col4\" >-0.219967</td>\n",
       "                        <td id=\"T_050f5094_ee7c_11ea_9eb7_0242ac1c0002row8_col5\" class=\"data row8 col5\" >-0.045093</td>\n",
       "                        <td id=\"T_050f5094_ee7c_11ea_9eb7_0242ac1c0002row8_col6\" class=\"data row8 col6\" >0.149894</td>\n",
       "                        <td id=\"T_050f5094_ee7c_11ea_9eb7_0242ac1c0002row8_col7\" class=\"data row8 col7\" >0.052221</td>\n",
       "                        <td id=\"T_050f5094_ee7c_11ea_9eb7_0242ac1c0002row8_col8\" class=\"data row8 col8\" >1.000000</td>\n",
       "            </tr>\n",
       "    </tbody></table>"
      ],
      "text/plain": [
       "<pandas.io.formats.style.Styler at 0x7fc3aa5329b0>"
      ]
     },
     "execution_count": 4,
     "metadata": {
      "tags": []
     },
     "output_type": "execute_result"
    }
   ],
   "source": [
    "corr_matrix = df.corr()\n",
    "corr_matrix.style.background_gradient(cmap='binary')"
   ]
  },
  {
   "cell_type": "markdown",
   "metadata": {
    "colab_type": "text",
    "id": "VN8Vaaga510J"
   },
   "source": [
    "### Dancebility and Valence are correlated maximum in this dataset"
   ]
  },
  {
   "cell_type": "code",
   "execution_count": 5,
   "metadata": {
    "colab": {},
    "colab_type": "code",
    "id": "SWdQkmBB510K"
   },
   "outputs": [],
   "source": [
    "X = df.drop(['track_id', 'genre_top'], axis=1)\n",
    "y = df.genre_top"
   ]
  },
  {
   "cell_type": "markdown",
   "metadata": {
    "colab_type": "text",
    "id": "emtJwePi510T"
   },
   "source": [
    "# Normalizing the feature data"
   ]
  },
  {
   "cell_type": "code",
   "execution_count": 6,
   "metadata": {
    "colab": {},
    "colab_type": "code",
    "id": "h34dBZT8510V"
   },
   "outputs": [],
   "source": [
    "scaler = StandardScaler()\n",
    "X_scaled = scaler.fit_transform(X)"
   ]
  },
  {
   "cell_type": "markdown",
   "metadata": {
    "colab_type": "text",
    "id": "h-jsRxQc510d"
   },
   "source": [
    "# Principal Component Analysis on our scaled data\n"
   ]
  },
  {
   "cell_type": "code",
   "execution_count": 7,
   "metadata": {
    "colab": {},
    "colab_type": "code",
    "id": "iZVMphXZ510e"
   },
   "outputs": [],
   "source": [
    "pca = PCA()\n",
    "pca.fit(X_scaled)\n",
    "variances = pca.explained_variance_ratio_"
   ]
  },
  {
   "cell_type": "code",
   "execution_count": 8,
   "metadata": {
    "colab": {
     "base_uri": "https://localhost:8080/",
     "height": 52
    },
    "colab_type": "code",
    "id": "UNDoBfog510k",
    "outputId": "d7f60a59-9c30-43dd-8fb6-0aeb419bcc52"
   },
   "outputs": [
    {
     "data": {
      "text/plain": [
       "array([0.24297674, 0.18044316, 0.13650309, 0.12994089, 0.11056248,\n",
       "       0.08302245, 0.06923783, 0.04731336])"
      ]
     },
     "execution_count": 8,
     "metadata": {
      "tags": []
     },
     "output_type": "execute_result"
    }
   ],
   "source": [
    "variances"
   ]
  },
  {
   "cell_type": "code",
   "execution_count": 9,
   "metadata": {
    "colab": {
     "base_uri": "https://localhost:8080/",
     "height": 282
    },
    "colab_type": "code",
    "id": "exePcFal510r",
    "outputId": "690c9dfc-22dc-4088-ee9d-b075dbe9969f"
   },
   "outputs": [
    {
     "data": {
      "text/plain": [
       "<matplotlib.axes._subplots.AxesSubplot at 0x7fc3aa202f28>"
      ]
     },
     "execution_count": 9,
     "metadata": {
      "tags": []
     },
     "output_type": "execute_result"
    },
    {
     "data": {
      "image/png": "[encoded data removed]",
      "text/plain": [
       "<Figure size 432x288 with 1 Axes>"
      ]
     },
     "metadata": {
      "needs_background": "light",
      "tags": []
     },
     "output_type": "display_data"
    }
   ],
   "source": [
    "sns.barplot(y=variances, x=list(range(pca.n_components_)))"
   ]
  },
  {
   "cell_type": "markdown",
   "metadata": {
    "colab_type": "text",
    "id": "AcvM2kVq510z"
   },
   "source": [
    "# Further visualization of PCA"
   ]
  },
  {
   "cell_type": "code",
   "execution_count": 10,
   "metadata": {
    "colab": {},
    "colab_type": "code",
    "id": "vnf0koWX5100"
   },
   "outputs": [],
   "source": [
    "cummilative = np.cumsum(variances)"
   ]
  },
  {
   "cell_type": "code",
   "execution_count": 11,
   "metadata": {
    "colab": {
     "base_uri": "https://localhost:8080/",
     "height": 282
    },
    "colab_type": "code",
    "id": "tUdizLku5107",
    "outputId": "db6ab3de-db12-4d6f-d5ed-66826b822ae9"
   },
   "outputs": [
    {
     "data": {
      "text/plain": [
       "<matplotlib.lines.Line2D at 0x7fc3aa202358>"
      ]
     },
     "execution_count": 11,
     "metadata": {
      "tags": []
     },
     "output_type": "execute_result"
    },
    {
     "data": {
      "image/png": "[encoded data removed]",
      "text/plain": [
       "<Figure size 432x288 with 1 Axes>"
      ]
     },
     "metadata": {
      "needs_background": "light",
      "tags": []
     },
     "output_type": "display_data"
    }
   ],
   "source": [
    "ax = sns.lineplot(y=cummilative, x=list(range(pca.n_components_)));\n",
    "ax.axhline(y=0.85, linestyle='--')"
   ]
  },
  {
   "cell_type": "code",
   "execution_count": 12,
   "metadata": {
    "colab": {},
    "colab_type": "code",
    "id": "buH0XVrz511B"
   },
   "outputs": [],
   "source": [
    "choosen_n = 6\n",
    "pca = PCA(choosen_n, random_state=42)\n",
    "pca.fit(X_scaled)\n",
    "pca_projected = pca.transform(X_scaled)"
   ]
  },
  {
   "cell_type": "code",
   "execution_count": 13,
   "metadata": {
    "colab": {
     "base_uri": "https://localhost:8080/",
     "height": 34
    },
    "colab_type": "code",
    "id": "cpIJ1ExP511H",
    "outputId": "b880b993-b499-40c6-b29f-b3f1ceda0b16"
   },
   "outputs": [
    {
     "data": {
      "text/plain": [
       "(4802, 6)"
      ]
     },
     "execution_count": 13,
     "metadata": {
      "tags": []
     },
     "output_type": "execute_result"
    }
   ],
   "source": [
    "pca_projected.shape"
   ]
  },
  {
   "cell_type": "code",
   "execution_count": 14,
   "metadata": {
    "colab": {
     "base_uri": "https://localhost:8080/",
     "height": 70
    },
    "colab_type": "code",
    "id": "bRPhMtxh511N",
    "outputId": "669d3db6-c179-4ca6-f1d1-b97c187b9561"
   },
   "outputs": [
    {
     "data": {
      "text/plain": [
       "Rock       3892\n",
       "Hip-Hop     910\n",
       "Name: genre_top, dtype: int64"
      ]
     },
     "execution_count": 14,
     "metadata": {
      "tags": []
     },
     "output_type": "execute_result"
    }
   ],
   "source": [
    "y.value_counts()"
   ]
  },
  {
   "cell_type": "markdown",
   "metadata": {
    "colab_type": "text",
    "id": "-BFGu3ZT511T"
   },
   "source": [
    "### Imbalanced dataset"
   ]
  },
  {
   "cell_type": "markdown",
   "metadata": {
    "colab_type": "text",
    "id": "8Er_w3o-511V"
   },
   "source": [
    "# Train a decision tree to classify genre\n"
   ]
  },
  {
   "cell_type": "code",
   "execution_count": 15,
   "metadata": {
    "colab": {},
    "colab_type": "code",
    "id": "bHsskSam511X"
   },
   "outputs": [],
   "source": [
    "X_train, X_test, y_train, y_test = train_test_split(pca_projected, y, stratify=y)"
   ]
  },
  {
   "cell_type": "code",
   "execution_count": 16,
   "metadata": {
    "colab": {},
    "colab_type": "code",
    "id": "-EubRiyo511d"
   },
   "outputs": [],
   "source": [
    "DecisionTreeClassifier?"
   ]
  },
  {
   "cell_type": "code",
   "execution_count": 17,
   "metadata": {
    "colab": {},
    "colab_type": "code",
    "id": "fh57OZ_g511k"
   },
   "outputs": [],
   "source": [
    "tree = DecisionTreeClassifier(random_state=42)"
   ]
  },
  {
   "cell_type": "code",
   "execution_count": 18,
   "metadata": {
    "colab": {
     "base_uri": "https://localhost:8080/",
     "height": 122
    },
    "colab_type": "code",
    "id": "sJUdMPpk511x",
    "outputId": "78b6a08b-9b22-42b7-b63f-2f11f8af15db"
   },
   "outputs": [
    {
     "data": {
      "text/plain": [
       "DecisionTreeClassifier(ccp_alpha=0.0, class_weight=None, criterion='gini',\n",
       "                       max_depth=None, max_features=None, max_leaf_nodes=None,\n",
       "                       min_impurity_decrease=0.0, min_impurity_split=None,\n",
       "                       min_samples_leaf=1, min_samples_split=2,\n",
       "                       min_weight_fraction_leaf=0.0, presort='deprecated',\n",
       "                       random_state=42, splitter='best')"
      ]
     },
     "execution_count": 18,
     "metadata": {
      "tags": []
     },
     "output_type": "execute_result"
    }
   ],
   "source": [
    "tree.fit(X_train, y_train)"
   ]
  },
  {
   "cell_type": "code",
   "execution_count": 19,
   "metadata": {
    "colab": {},
    "colab_type": "code",
    "id": "41fohC2R5113"
   },
   "outputs": [],
   "source": [
    "y_pred = tree.predict(X_test)"
   ]
  },
  {
   "cell_type": "code",
   "execution_count": 20,
   "metadata": {
    "colab": {
     "base_uri": "https://localhost:8080/",
     "height": 34
    },
    "colab_type": "code",
    "id": "Uf_MardZ5117",
    "outputId": "6c1e1114-eaf3-4ebc-cc46-7327ce07339d"
   },
   "outputs": [
    {
     "data": {
      "text/plain": [
       "0.855120732722731"
      ]
     },
     "execution_count": 20,
     "metadata": {
      "tags": []
     },
     "output_type": "execute_result"
    }
   ],
   "source": [
    "accuracy_score(y_true=y_test, y_pred=y_pred)"
   ]
  },
  {
   "cell_type": "code",
   "execution_count": 21,
   "metadata": {
    "colab": {
     "base_uri": "https://localhost:8080/",
     "height": 52
    },
    "colab_type": "code",
    "id": "-PBnMofP512C",
    "outputId": "6857bd29-7303-487a-abb3-575a6b116e7b"
   },
   "outputs": [
    {
     "data": {
      "text/plain": [
       "array([[147,  81],\n",
       "       [ 93, 880]])"
      ]
     },
     "execution_count": 21,
     "metadata": {
      "tags": []
     },
     "output_type": "execute_result"
    }
   ],
   "source": [
    "confusion_matrix(y_true=y_test, y_pred=y_pred)"
   ]
  },
  {
   "cell_type": "code",
   "execution_count": 22,
   "metadata": {
    "colab": {
     "base_uri": "https://localhost:8080/",
     "height": 175
    },
    "colab_type": "code",
    "id": "eeO9DvIr512I",
    "outputId": "45bd062b-0c20-49f8-81be-1d4b77ebe607"
   },
   "outputs": [
    {
     "name": "stdout",
     "output_type": "stream",
     "text": [
      "              precision    recall  f1-score   support\n",
      "\n",
      "     Hip-Hop       0.61      0.64      0.63       228\n",
      "        Rock       0.92      0.90      0.91       973\n",
      "\n",
      "    accuracy                           0.86      1201\n",
      "   macro avg       0.76      0.77      0.77      1201\n",
      "weighted avg       0.86      0.86      0.86      1201\n",
      "\n"
     ]
    }
   ],
   "source": [
    "print(classification_report(y_true=y_test, y_pred=y_pred))"
   ]
  },
  {
   "cell_type": "markdown",
   "metadata": {
    "colab_type": "text",
    "id": "P-oCRL10512N"
   },
   "source": [
    "# Compare our decision tree to a logistic regression\n"
   ]
  },
  {
   "cell_type": "code",
   "execution_count": 23,
   "metadata": {
    "colab": {},
    "colab_type": "code",
    "id": "2LLUheE0512P"
   },
   "outputs": [],
   "source": [
    "log_reg = LogisticRegression(random_state=42)"
   ]
  },
  {
   "cell_type": "code",
   "execution_count": 24,
   "metadata": {
    "colab": {
     "base_uri": "https://localhost:8080/",
     "height": 0
    },
    "colab_type": "code",
    "id": "yhMQGgNW512T",
    "outputId": "3f6e5b7f-2780-4f0b-9304-b02651b5a3fe"
   },
   "outputs": [
    {
     "data": {
      "text/plain": [
       "LogisticRegression(C=1.0, class_weight=None, dual=False, fit_intercept=True,\n",
       "                   intercept_scaling=1, l1_ratio=None, max_iter=100,\n",
       "                   multi_class='auto', n_jobs=None, penalty='l2',\n",
       "                   random_state=42, solver='lbfgs', tol=0.0001, verbose=0,\n",
       "                   warm_start=False)"
      ]
     },
     "execution_count": 24,
     "metadata": {
      "tags": []
     },
     "output_type": "execute_result"
    }
   ],
   "source": [
    "log_reg.fit(X_train, y_train)"
   ]
  },
  {
   "cell_type": "code",
   "execution_count": 25,
   "metadata": {
    "colab": {},
    "colab_type": "code",
    "id": "QhqLbJeb512Y"
   },
   "outputs": [],
   "source": [
    "y_pred_reg = log_reg.predict(X_test)"
   ]
  },
  {
   "cell_type": "code",
   "execution_count": 26,
   "metadata": {
    "colab": {
     "base_uri": "https://localhost:8080/",
     "height": 0
    },
    "colab_type": "code",
    "id": "HisnV_6S512d",
    "outputId": "3860fa85-7668-458f-a858-72205fafc7fb"
   },
   "outputs": [
    {
     "data": {
      "text/plain": [
       "0.8751040799333888"
      ]
     },
     "execution_count": 26,
     "metadata": {
      "tags": []
     },
     "output_type": "execute_result"
    }
   ],
   "source": [
    "accuracy_score(y_true=y_test, y_pred=y_pred_reg)"
   ]
  },
  {
   "cell_type": "code",
   "execution_count": 27,
   "metadata": {
    "colab": {
     "base_uri": "https://localhost:8080/",
     "height": 0
    },
    "colab_type": "code",
    "id": "9W-s7udV512h",
    "outputId": "2c2c079a-5911-4aca-bd0a-b396f473a8dd"
   },
   "outputs": [
    {
     "data": {
      "text/plain": [
       "array([[116, 112],\n",
       "       [ 38, 935]])"
      ]
     },
     "execution_count": 27,
     "metadata": {
      "tags": []
     },
     "output_type": "execute_result"
    }
   ],
   "source": [
    "confusion_matrix(y_true=y_test, y_pred=y_pred_reg)"
   ]
  },
  {
   "cell_type": "code",
   "execution_count": 28,
   "metadata": {
    "colab": {
     "base_uri": "https://localhost:8080/",
     "height": 0
    },
    "colab_type": "code",
    "id": "JEDqU7dT512k",
    "outputId": "541ca86d-c8f7-4b46-ce14-34e12f156c06"
   },
   "outputs": [
    {
     "name": "stdout",
     "output_type": "stream",
     "text": [
      "              precision    recall  f1-score   support\n",
      "\n",
      "     Hip-Hop       0.75      0.51      0.61       228\n",
      "        Rock       0.89      0.96      0.93       973\n",
      "\n",
      "    accuracy                           0.88      1201\n",
      "   macro avg       0.82      0.73      0.77      1201\n",
      "weighted avg       0.87      0.88      0.87      1201\n",
      "\n"
     ]
    }
   ],
   "source": [
    "print(classification_report(y_true=y_test, y_pred=y_pred_reg))"
   ]
  },
  {
   "cell_type": "markdown",
   "metadata": {
    "colab_type": "text",
    "id": "1dDiOCBY512q"
   },
   "source": [
    "# Balance our data for greater performance"
   ]
  },
  {
   "cell_type": "code",
   "execution_count": 29,
   "metadata": {
    "colab": {},
    "colab_type": "code",
    "id": "TLHeVGMS512r"
   },
   "outputs": [],
   "source": [
    "rock = df[df.genre_top=='Rock']"
   ]
  },
  {
   "cell_type": "code",
   "execution_count": 30,
   "metadata": {
    "colab": {},
    "colab_type": "code",
    "id": "WNSaPS14512u"
   },
   "outputs": [],
   "source": [
    "hop = df[df.genre_top=='Hip-Hop']"
   ]
  },
  {
   "cell_type": "code",
   "execution_count": 31,
   "metadata": {
    "colab": {
     "base_uri": "https://localhost:8080/",
     "height": 0
    },
    "colab_type": "code",
    "id": "V6RreL5y512y",
    "outputId": "0f6f4299-7ee1-4f0e-a03b-f37a92f02e5b"
   },
   "outputs": [
    {
     "data": {
      "text/html": [
       "<div>\n",
       "<style scoped>\n",
       "    .dataframe tbody tr th:only-of-type {\n",
       "        vertical-align: middle;\n",
       "    }\n",
       "\n",
       "    .dataframe tbody tr th {\n",
       "        vertical-align: top;\n",
       "    }\n",
       "\n",
       "    .dataframe thead th {\n",
       "        text-align: right;\n",
       "    }\n",
       "</style>\n",
       "<table border=\"1\" class=\"dataframe\">\n",
       "  <thead>\n",
       "    <tr style=\"text-align: right;\">\n",
       "      <th></th>\n",
       "      <th>track_id</th>\n",
       "      <th>genre_top</th>\n",
       "      <th>acousticness</th>\n",
       "      <th>danceability</th>\n",
       "      <th>energy</th>\n",
       "      <th>instrumentalness</th>\n",
       "      <th>liveness</th>\n",
       "      <th>speechiness</th>\n",
       "      <th>tempo</th>\n",
       "      <th>valence</th>\n",
       "    </tr>\n",
       "  </thead>\n",
       "  <tbody>\n",
       "    <tr>\n",
       "      <th>4209</th>\n",
       "      <td>15144</td>\n",
       "      <td>Hip-Hop</td>\n",
       "      <td>0.161527</td>\n",
       "      <td>0.611318</td>\n",
       "      <td>0.229768</td>\n",
       "      <td>0.930221</td>\n",
       "      <td>0.085714</td>\n",
       "      <td>0.063875</td>\n",
       "      <td>157.921</td>\n",
       "      <td>0.955271</td>\n",
       "    </tr>\n",
       "    <tr>\n",
       "      <th>3931</th>\n",
       "      <td>5265</td>\n",
       "      <td>Hip-Hop</td>\n",
       "      <td>0.727330</td>\n",
       "      <td>0.185407</td>\n",
       "      <td>0.938232</td>\n",
       "      <td>0.558805</td>\n",
       "      <td>0.111546</td>\n",
       "      <td>0.370179</td>\n",
       "      <td>160.237</td>\n",
       "      <td>0.046452</td>\n",
       "    </tr>\n",
       "    <tr>\n",
       "      <th>4138</th>\n",
       "      <td>13725</td>\n",
       "      <td>Hip-Hop</td>\n",
       "      <td>0.031226</td>\n",
       "      <td>0.628698</td>\n",
       "      <td>0.831144</td>\n",
       "      <td>0.001110</td>\n",
       "      <td>0.182297</td>\n",
       "      <td>0.067901</td>\n",
       "      <td>97.014</td>\n",
       "      <td>0.653132</td>\n",
       "    </tr>\n",
       "    <tr>\n",
       "      <th>4610</th>\n",
       "      <td>40527</td>\n",
       "      <td>Hip-Hop</td>\n",
       "      <td>0.419791</td>\n",
       "      <td>0.533791</td>\n",
       "      <td>0.780637</td>\n",
       "      <td>0.786020</td>\n",
       "      <td>0.091891</td>\n",
       "      <td>0.053786</td>\n",
       "      <td>206.063</td>\n",
       "      <td>0.235292</td>\n",
       "    </tr>\n",
       "    <tr>\n",
       "      <th>4255</th>\n",
       "      <td>16534</td>\n",
       "      <td>Hip-Hop</td>\n",
       "      <td>0.255002</td>\n",
       "      <td>0.845890</td>\n",
       "      <td>0.827900</td>\n",
       "      <td>0.911723</td>\n",
       "      <td>0.039846</td>\n",
       "      <td>0.065339</td>\n",
       "      <td>99.681</td>\n",
       "      <td>0.863489</td>\n",
       "    </tr>\n",
       "    <tr>\n",
       "      <th>...</th>\n",
       "      <td>...</td>\n",
       "      <td>...</td>\n",
       "      <td>...</td>\n",
       "      <td>...</td>\n",
       "      <td>...</td>\n",
       "      <td>...</td>\n",
       "      <td>...</td>\n",
       "      <td>...</td>\n",
       "      <td>...</td>\n",
       "      <td>...</td>\n",
       "    </tr>\n",
       "    <tr>\n",
       "      <th>3948</th>\n",
       "      <td>7487</td>\n",
       "      <td>Hip-Hop</td>\n",
       "      <td>0.406083</td>\n",
       "      <td>0.600080</td>\n",
       "      <td>0.689903</td>\n",
       "      <td>0.000447</td>\n",
       "      <td>0.422228</td>\n",
       "      <td>0.180573</td>\n",
       "      <td>87.880</td>\n",
       "      <td>0.590514</td>\n",
       "    </tr>\n",
       "    <tr>\n",
       "      <th>4480</th>\n",
       "      <td>32493</td>\n",
       "      <td>Hip-Hop</td>\n",
       "      <td>0.121386</td>\n",
       "      <td>0.475046</td>\n",
       "      <td>0.464655</td>\n",
       "      <td>0.002926</td>\n",
       "      <td>0.343911</td>\n",
       "      <td>0.556291</td>\n",
       "      <td>116.677</td>\n",
       "      <td>0.741007</td>\n",
       "    </tr>\n",
       "    <tr>\n",
       "      <th>4222</th>\n",
       "      <td>15203</td>\n",
       "      <td>Hip-Hop</td>\n",
       "      <td>0.556557</td>\n",
       "      <td>0.747906</td>\n",
       "      <td>0.430304</td>\n",
       "      <td>0.006519</td>\n",
       "      <td>0.177778</td>\n",
       "      <td>0.256353</td>\n",
       "      <td>86.961</td>\n",
       "      <td>0.347411</td>\n",
       "    </tr>\n",
       "    <tr>\n",
       "      <th>4688</th>\n",
       "      <td>51650</td>\n",
       "      <td>Hip-Hop</td>\n",
       "      <td>0.698526</td>\n",
       "      <td>0.723801</td>\n",
       "      <td>0.809145</td>\n",
       "      <td>0.891789</td>\n",
       "      <td>0.102043</td>\n",
       "      <td>0.029645</td>\n",
       "      <td>117.987</td>\n",
       "      <td>0.244987</td>\n",
       "    </tr>\n",
       "    <tr>\n",
       "      <th>4026</th>\n",
       "      <td>11809</td>\n",
       "      <td>Hip-Hop</td>\n",
       "      <td>0.817983</td>\n",
       "      <td>0.593822</td>\n",
       "      <td>0.594779</td>\n",
       "      <td>0.097028</td>\n",
       "      <td>0.139568</td>\n",
       "      <td>0.301909</td>\n",
       "      <td>163.562</td>\n",
       "      <td>0.358137</td>\n",
       "    </tr>\n",
       "  </tbody>\n",
       "</table>\n",
       "<p>900 rows × 10 columns</p>\n",
       "</div>"
      ],
      "text/plain": [
       "      track_id genre_top  acousticness  ...  speechiness    tempo   valence\n",
       "4209     15144   Hip-Hop      0.161527  ...     0.063875  157.921  0.955271\n",
       "3931      5265   Hip-Hop      0.727330  ...     0.370179  160.237  0.046452\n",
       "4138     13725   Hip-Hop      0.031226  ...     0.067901   97.014  0.653132\n",
       "4610     40527   Hip-Hop      0.419791  ...     0.053786  206.063  0.235292\n",
       "4255     16534   Hip-Hop      0.255002  ...     0.065339   99.681  0.863489\n",
       "...        ...       ...           ...  ...          ...      ...       ...\n",
       "3948      7487   Hip-Hop      0.406083  ...     0.180573   87.880  0.590514\n",
       "4480     32493   Hip-Hop      0.121386  ...     0.556291  116.677  0.741007\n",
       "4222     15203   Hip-Hop      0.556557  ...     0.256353   86.961  0.347411\n",
       "4688     51650   Hip-Hop      0.698526  ...     0.029645  117.987  0.244987\n",
       "4026     11809   Hip-Hop      0.817983  ...     0.301909  163.562  0.358137\n",
       "\n",
       "[900 rows x 10 columns]"
      ]
     },
     "execution_count": 31,
     "metadata": {
      "tags": []
     },
     "output_type": "execute_result"
    }
   ],
   "source": [
    "hop.sample(n=900)"
   ]
  },
  {
   "cell_type": "code",
   "execution_count": 32,
   "metadata": {
    "colab": {},
    "colab_type": "code",
    "id": "c0unjhGb5121"
   },
   "outputs": [],
   "source": [
    "sampled_data_set = pd.concat([rock.sample(n=900), hop.sample(n=900)], axis=0)"
   ]
  },
  {
   "cell_type": "code",
   "execution_count": 33,
   "metadata": {
    "colab": {
     "base_uri": "https://localhost:8080/",
     "height": 0
    },
    "colab_type": "code",
    "id": "FZh_b7hJ5127",
    "outputId": "c68052b1-3717-4b29-d05c-5a133fb98d48"
   },
   "outputs": [
    {
     "data": {
      "text/plain": [
       "Rock       900\n",
       "Hip-Hop    900\n",
       "Name: genre_top, dtype: int64"
      ]
     },
     "execution_count": 33,
     "metadata": {
      "tags": []
     },
     "output_type": "execute_result"
    }
   ],
   "source": [
    "sampled_data_set.genre_top.value_counts()"
   ]
  },
  {
   "cell_type": "markdown",
   "metadata": {
    "colab_type": "text",
    "id": "wVxkhJGh512_"
   },
   "source": [
    "# Does balancing our dataset improve model bias?\n"
   ]
  },
  {
   "cell_type": "code",
   "execution_count": 34,
   "metadata": {
    "colab": {},
    "colab_type": "code",
    "id": "sV5APwXp513B"
   },
   "outputs": [],
   "source": [
    "scaler_new = StandardScaler()\n",
    "X_new = sampled_data_set.drop(['track_id', 'genre_top'], axis=1)\n",
    "y_new = sampled_data_set.genre_top"
   ]
  },
  {
   "cell_type": "code",
   "execution_count": 35,
   "metadata": {
    "colab": {},
    "colab_type": "code",
    "id": "VimYuRt7513F"
   },
   "outputs": [],
   "source": [
    "X_new_scaled = scaler_new.fit_transform(X_new)"
   ]
  },
  {
   "cell_type": "code",
   "execution_count": 36,
   "metadata": {
    "colab": {},
    "colab_type": "code",
    "id": "aheJQ4iA513O"
   },
   "outputs": [],
   "source": [
    "pca_new = PCA(choosen_n, random_state=42)"
   ]
  },
  {
   "cell_type": "code",
   "execution_count": 37,
   "metadata": {
    "colab": {
     "base_uri": "https://localhost:8080/",
     "height": 0
    },
    "colab_type": "code",
    "id": "P_ry3mSY513S",
    "outputId": "a3af002b-9ac6-4d9b-9d0c-8d457a3f054a"
   },
   "outputs": [
    {
     "data": {
      "text/plain": [
       "PCA(copy=True, iterated_power='auto', n_components=6, random_state=42,\n",
       "    svd_solver='auto', tol=0.0, whiten=False)"
      ]
     },
     "execution_count": 37,
     "metadata": {
      "tags": []
     },
     "output_type": "execute_result"
    }
   ],
   "source": [
    "pca_new.fit(X_new_scaled)"
   ]
  },
  {
   "cell_type": "code",
   "execution_count": 38,
   "metadata": {
    "colab": {},
    "colab_type": "code",
    "id": "RoXKnSAi513W"
   },
   "outputs": [],
   "source": [
    "pca_projected_new = pca_new.fit_transform(X_new_scaled)"
   ]
  },
  {
   "cell_type": "code",
   "execution_count": 39,
   "metadata": {
    "colab": {
     "base_uri": "https://localhost:8080/",
     "height": 0
    },
    "colab_type": "code",
    "id": "abDAr6et513h",
    "outputId": "e2db6ebf-5a08-4b97-d41f-760576a4aabc"
   },
   "outputs": [
    {
     "data": {
      "text/plain": [
       "(1800, 6)"
      ]
     },
     "execution_count": 39,
     "metadata": {
      "tags": []
     },
     "output_type": "execute_result"
    }
   ],
   "source": [
    "pca_projected_new.shape"
   ]
  },
  {
   "cell_type": "code",
   "execution_count": 40,
   "metadata": {
    "colab": {
     "base_uri": "https://localhost:8080/",
     "height": 0
    },
    "colab_type": "code",
    "id": "_yL0N14n513m",
    "outputId": "f9113643-8390-4efd-a7d7-23d42d56bd4b"
   },
   "outputs": [
    {
     "data": {
      "text/plain": [
       "(1800,)"
      ]
     },
     "execution_count": 40,
     "metadata": {
      "tags": []
     },
     "output_type": "execute_result"
    }
   ],
   "source": [
    "y_new.shape"
   ]
  },
  {
   "cell_type": "code",
   "execution_count": 41,
   "metadata": {
    "colab": {},
    "colab_type": "code",
    "id": "wcRKFAiv513s"
   },
   "outputs": [],
   "source": [
    "X_train_new, X_test_new, y_train_new, y_test_new = train_test_split(pca_projected_new, y_new, stratify=y_new)"
   ]
  },
  {
   "cell_type": "code",
   "execution_count": 42,
   "metadata": {
    "colab": {
     "base_uri": "https://localhost:8080/",
     "height": 0
    },
    "colab_type": "code",
    "id": "7aEnk_765130",
    "outputId": "971aeb81-bed1-4c6f-8e5f-4167e51473a0"
   },
   "outputs": [
    {
     "data": {
      "text/plain": [
       "((1350, 6), (450, 6), (1350,), (450,))"
      ]
     },
     "execution_count": 42,
     "metadata": {
      "tags": []
     },
     "output_type": "execute_result"
    }
   ],
   "source": [
    "X_train_new.shape, X_test_new.shape, y_train_new.shape, y_test_new.shape"
   ]
  },
  {
   "cell_type": "code",
   "execution_count": 43,
   "metadata": {
    "colab": {},
    "colab_type": "code",
    "id": "KKXS5-kt5136"
   },
   "outputs": [],
   "source": [
    "tree_new = DecisionTreeClassifier(random_state=42)\n",
    "log_reg_new = LogisticRegression(random_state=42)"
   ]
  },
  {
   "cell_type": "code",
   "execution_count": 44,
   "metadata": {
    "colab": {
     "base_uri": "https://localhost:8080/",
     "height": 0
    },
    "colab_type": "code",
    "id": "8ZFwbIGL513_",
    "outputId": "b8018b0c-3c84-4164-fa44-5c2c85c1bac4"
   },
   "outputs": [
    {
     "data": {
      "text/plain": [
       "LogisticRegression(C=1.0, class_weight=None, dual=False, fit_intercept=True,\n",
       "                   intercept_scaling=1, l1_ratio=None, max_iter=100,\n",
       "                   multi_class='auto', n_jobs=None, penalty='l2',\n",
       "                   random_state=42, solver='lbfgs', tol=0.0001, verbose=0,\n",
       "                   warm_start=False)"
      ]
     },
     "execution_count": 44,
     "metadata": {
      "tags": []
     },
     "output_type": "execute_result"
    }
   ],
   "source": [
    "tree_new.fit(X_train_new, y_train_new)\n",
    "log_reg_new.fit(X_train_new, y_train_new)"
   ]
  },
  {
   "cell_type": "code",
   "execution_count": 45,
   "metadata": {
    "colab": {},
    "colab_type": "code",
    "id": "Oh0i_ykX514D"
   },
   "outputs": [],
   "source": [
    "y_pred_tree_new = tree_new.predict(X_test_new)\n",
    "y_pred_log_new = log_reg_new.predict(X_test_new)"
   ]
  },
  {
   "cell_type": "code",
   "execution_count": 46,
   "metadata": {
    "colab": {
     "base_uri": "https://localhost:8080/",
     "height": 0
    },
    "colab_type": "code",
    "id": "41monSiR514G",
    "outputId": "5d0701a0-21fc-4861-8438-83be20a596a4"
   },
   "outputs": [
    {
     "name": "stdout",
     "output_type": "stream",
     "text": [
      "Tree accuracy:  0.7977777777777778\n"
     ]
    }
   ],
   "source": [
    "print('Tree accuracy: ', accuracy_score(y_true=y_test_new, y_pred=y_pred_tree_new))"
   ]
  },
  {
   "cell_type": "code",
   "execution_count": 47,
   "metadata": {
    "colab": {
     "base_uri": "https://localhost:8080/",
     "height": 0
    },
    "colab_type": "code",
    "id": "8M-EGxXi514J",
    "outputId": "fb176458-f7ea-461e-a8e4-3601f18a56c0"
   },
   "outputs": [
    {
     "name": "stdout",
     "output_type": "stream",
     "text": [
      "Logistics Regression accuracy:  0.8444444444444444\n"
     ]
    }
   ],
   "source": [
    "print('Logistics Regression accuracy: ', accuracy_score(y_true=y_test_new, y_pred=y_pred_log_new))"
   ]
  },
  {
   "cell_type": "code",
   "execution_count": 48,
   "metadata": {
    "colab": {
     "base_uri": "https://localhost:8080/",
     "height": 0
    },
    "colab_type": "code",
    "id": "ZI5a0xY-514M",
    "outputId": "a4d6548a-1352-4e5e-8354-4c0389bd12ab"
   },
   "outputs": [
    {
     "name": "stdout",
     "output_type": "stream",
     "text": [
      "Decision Tree: \n",
      "               precision    recall  f1-score   support\n",
      "\n",
      "     Hip-Hop       0.80      0.79      0.80       225\n",
      "        Rock       0.79      0.81      0.80       225\n",
      "\n",
      "    accuracy                           0.80       450\n",
      "   macro avg       0.80      0.80      0.80       450\n",
      "weighted avg       0.80      0.80      0.80       450\n",
      "\n",
      "Logistic Regression: \n",
      "               precision    recall  f1-score   support\n",
      "\n",
      "     Hip-Hop       0.86      0.82      0.84       225\n",
      "        Rock       0.83      0.87      0.85       225\n",
      "\n",
      "    accuracy                           0.84       450\n",
      "   macro avg       0.85      0.84      0.84       450\n",
      "weighted avg       0.85      0.84      0.84       450\n",
      "\n"
     ]
    }
   ],
   "source": [
    "print(\"Decision Tree: \\n\", classification_report(y_true=y_test_new, y_pred=y_pred_tree_new))\n",
    "print(\"Logistic Regression: \\n\", classification_report(y_true=y_test_new, y_pred=y_pred_log_new))"
   ]
  },
  {
   "cell_type": "markdown",
   "metadata": {
    "colab_type": "text",
    "id": "k0Dlfouz514S"
   },
   "source": [
    "# Using cross-validation to evaluate our models\n"
   ]
  },
  {
   "cell_type": "code",
   "execution_count": 49,
   "metadata": {
    "colab": {},
    "colab_type": "code",
    "id": "4W3u5lQu514S"
   },
   "outputs": [],
   "source": [
    "kf = KFold(n_splits=30, random_state=42, shuffle=True)"
   ]
  },
  {
   "cell_type": "code",
   "execution_count": 50,
   "metadata": {
    "colab": {},
    "colab_type": "code",
    "id": "ykNN6sGm514d"
   },
   "outputs": [],
   "source": [
    "tree_kf = DecisionTreeClassifier(random_state=42)\n",
    "log_reg_kf = LogisticRegression(random_state=42)"
   ]
  },
  {
   "cell_type": "code",
   "execution_count": 51,
   "metadata": {
    "colab": {
     "base_uri": "https://localhost:8080/",
     "height": 0
    },
    "colab_type": "code",
    "id": "ig2F2Aha514j",
    "outputId": "544c8cb5-3e22-44c0-dde4-db19dcbc4fea"
   },
   "outputs": [
    {
     "name": "stdout",
     "output_type": "stream",
     "text": [
      "Decision Tree: 0.8602562111801241 Logistic Regression: 0.8775478778467909\n"
     ]
    }
   ],
   "source": [
    "tree_score = cross_val_score(tree_kf, pca_projected, y, cv = kf)\n",
    "log_reg_score = cross_val_score(log_reg_kf, pca_projected, y, cv = kf)\n",
    "\n",
    "print(\"Decision Tree:\", np.mean(tree_score), \"Logistic Regression:\", np.mean(log_reg_score))"
   ]
  },
  {
   "cell_type": "markdown",
   "metadata": {
    "colab_type": "text",
    "id": "7eIIdd4E514o"
   },
   "source": [
    "# Without PCA"
   ]
  },
  {
   "cell_type": "code",
   "execution_count": 52,
   "metadata": {
    "colab": {},
    "colab_type": "code",
    "id": "r-Iz-JD1514o"
   },
   "outputs": [],
   "source": [
    "log_reg = LogisticRegression(random_state=42)"
   ]
  },
  {
   "cell_type": "code",
   "execution_count": 53,
   "metadata": {
    "colab": {
     "base_uri": "https://localhost:8080/",
     "height": 105
    },
    "colab_type": "code",
    "id": "Zhu8g_1Z514u",
    "outputId": "a7f595ff-37ac-4d43-bd82-99446b6e92bc"
   },
   "outputs": [
    {
     "data": {
      "text/plain": [
       "LogisticRegression(C=1.0, class_weight=None, dual=False, fit_intercept=True,\n",
       "                   intercept_scaling=1, l1_ratio=None, max_iter=100,\n",
       "                   multi_class='auto', n_jobs=None, penalty='l2',\n",
       "                   random_state=42, solver='lbfgs', tol=0.0001, verbose=0,\n",
       "                   warm_start=False)"
      ]
     },
     "execution_count": 53,
     "metadata": {
      "tags": []
     },
     "output_type": "execute_result"
    }
   ],
   "source": [
    "log_reg.fit(X_train, y_train)"
   ]
  },
  {
   "cell_type": "code",
   "execution_count": 54,
   "metadata": {
    "colab": {},
    "colab_type": "code",
    "id": "Z3B81OhM514x"
   },
   "outputs": [],
   "source": [
    "y_pred_simple = log_reg.predict(X_test)"
   ]
  },
  {
   "cell_type": "code",
   "execution_count": 55,
   "metadata": {
    "colab": {
     "base_uri": "https://localhost:8080/",
     "height": 34
    },
    "colab_type": "code",
    "id": "UTE_6MYR5145",
    "outputId": "2073c9c4-dde2-4636-d867-4cad2e0a8ef3"
   },
   "outputs": [
    {
     "data": {
      "text/plain": [
       "0.8751040799333888"
      ]
     },
     "execution_count": 55,
     "metadata": {
      "tags": []
     },
     "output_type": "execute_result"
    }
   ],
   "source": [
    "accuracy_score(y_pred=y_pred_simple, y_true=y_test)"
   ]
  },
  {
   "cell_type": "code",
   "execution_count": 56,
   "metadata": {
    "colab": {
     "base_uri": "https://localhost:8080/",
     "height": 52
    },
    "colab_type": "code",
    "id": "zhGkhFkt514-",
    "outputId": "9c0630cd-ab1f-49d4-97c3-d46fb5069020"
   },
   "outputs": [
    {
     "data": {
      "text/plain": [
       "array([[116, 112],\n",
       "       [ 38, 935]])"
      ]
     },
     "execution_count": 56,
     "metadata": {
      "tags": []
     },
     "output_type": "execute_result"
    }
   ],
   "source": [
    "confusion_matrix(y_pred=y_pred_simple, y_true=y_test)"
   ]
  },
  {
   "cell_type": "code",
   "execution_count": 57,
   "metadata": {
    "colab": {
     "base_uri": "https://localhost:8080/",
     "height": 175
    },
    "colab_type": "code",
    "id": "PJ76h7yF515C",
    "outputId": "e3a8db8f-3128-4feb-e304-52125ce0f3a0"
   },
   "outputs": [
    {
     "name": "stdout",
     "output_type": "stream",
     "text": [
      "              precision    recall  f1-score   support\n",
      "\n",
      "     Hip-Hop       0.75      0.51      0.61       228\n",
      "        Rock       0.89      0.96      0.93       973\n",
      "\n",
      "    accuracy                           0.88      1201\n",
      "   macro avg       0.82      0.73      0.77      1201\n",
      "weighted avg       0.87      0.88      0.87      1201\n",
      "\n"
     ]
    }
   ],
   "source": [
    "print(classification_report(y_pred=y_pred_simple, y_true=y_test))"
   ]
  },
  {
   "cell_type": "code",
   "execution_count": 58,
   "metadata": {
    "colab": {},
    "colab_type": "code",
    "id": "jyWwShft515H"
   },
   "outputs": [],
   "source": [
    "Pkl_Filename = \"model.pkl\"  \n",
    "\n",
    "with open(Pkl_Filename, 'wb') as file:  \n",
    "    pickle.dump(log_reg, file)"
   ]
  }
 ],
 "metadata": {
  "colab": {
   "name": "Data Exploration & Model Building.ipynb",
   "provenance": []
  },
  "kernelspec": {
   "display_name": "Python 3",
   "language": "python",
   "name": "python3"
  },
  "language_info": {
   "codemirror_mode": {
    "name": "ipython",
    "version": 3
   },
   "file_extension": ".py",
   "mimetype": "text/x-python",
   "name": "python",
   "nbconvert_exporter": "python",
   "pygments_lexer": "ipython3",
   "version": "3.7.4"
  }
 },
 "nbformat": 4,
 "nbformat_minor": 1
}
